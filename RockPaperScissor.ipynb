{
 "cells": [
  {
   "cell_type": "code",
   "execution_count": 2,
   "id": "57812214",
   "metadata": {},
   "outputs": [
    {
     "name": "stdout",
     "output_type": "stream",
     "text": [
      "Fizz\n",
      "Fizz\n",
      "buzz\n",
      "Fizz\n",
      "Fizz\n",
      "buzz\n",
      "Fizz\n",
      "Fizz\n",
      "Fizz\n",
      "buzz\n",
      "Fizz\n",
      "Fizz\n",
      "buzz\n",
      "Fizz\n",
      "Fizz\n",
      "Fizz\n",
      "buzz\n",
      "Fizz\n",
      "Fizz\n",
      "buzz\n",
      "Fizz\n",
      "Fizz\n",
      "Fizz\n",
      "buzz\n"
     ]
    }
   ],
   "source": [
    "for i in range(0,51):\n",
    "    if i%3==0:\n",
    "        print(\"Fizz\")\n",
    "        continue\n",
    "    elif i%5==0:\n",
    "        print(\"buzz\")\n",
    "        continue\n",
    "    elif i%3==0 and i%5==0:\n",
    "        print(\"Fizz Buzz\")\n",
    "        continue"
   ]
  },
  {
   "cell_type": "code",
   "execution_count": null,
   "id": "2730189b",
   "metadata": {},
   "outputs": [],
   "source": []
  },
  {
   "cell_type": "code",
   "execution_count": null,
   "id": "3acf5727",
   "metadata": {},
   "outputs": [],
   "source": []
  }
 ],
 "metadata": {
  "kernelspec": {
   "display_name": "Python 3 (ipykernel)",
   "language": "python",
   "name": "python3"
  },
  "language_info": {
   "codemirror_mode": {
    "name": "ipython",
    "version": 3
   },
   "file_extension": ".py",
   "mimetype": "text/x-python",
   "name": "python",
   "nbconvert_exporter": "python",
   "pygments_lexer": "ipython3",
   "version": "3.9.12"
  }
 },
 "nbformat": 4,
 "nbformat_minor": 5
}
