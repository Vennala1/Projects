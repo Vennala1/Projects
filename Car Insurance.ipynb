{
 "cells": [
  {
   "cell_type": "code",
   "execution_count": null,
   "id": "c3ef6263",
   "metadata": {},
   "outputs": [],
   "source": [
    "#Project - Car Ensurance\n",
    "description\n",
    "->This is a fictional car insurance company called Car Crash\n",
    "->They calculate the yearly ensurance price based on the current market price\n",
    "->Given the market price:market_price\n",
    "->then the yearly ensurance price is 9% of the market if it is a male above 26 years old"
   ]
  },
  {
   "cell_type": "code",
   "execution_count": 5,
   "id": "592433da",
   "metadata": {},
   "outputs": [
    {
     "name": "stdout",
     "output_type": "stream",
     "text": [
      "What is your gender(M/F)m\n",
      "Male\n",
      "Enter your age26\n",
      "Less/Equal to 26\n",
      "What is the market price of your car?1000000\n",
      "Ensurance offer:130000.0\n"
     ]
    }
   ],
   "source": [
    "gender=input('What is your gender(M/F)')\n",
    "gender=gender.upper()\n",
    "if gender=='M':\n",
    "    print('Male')\n",
    "    age=int(input(\"Enter your age\"))\n",
    "    if age<=26:\n",
    "        print('Less/Equal to 26')\n",
    "        percentage=13\n",
    "    else:\n",
    "        print('More than 26')\n",
    "        percentage=9\n",
    "elif gender=='F':\n",
    "    print('Female')\n",
    "    car_type=input('What is your car type (sports/non-sports)')\n",
    "    car_type=car_type.upper()\n",
    "    if car_type==\"SPORTS\":\n",
    "            print('Sports car')\n",
    "            percentage=21\n",
    "    else:\n",
    "            print('Non-Sports')\n",
    "            percentage=10\n",
    "market_price=int(input('What is the market price of your car?'))\n",
    "ensurance_offer=market_price*(percentage/100)\n",
    "print(f\"Ensurance offer:{ensurance_offer}\")"
   ]
  },
  {
   "cell_type": "code",
   "execution_count": null,
   "id": "de0284d8",
   "metadata": {},
   "outputs": [
    {
     "name": "stdout",
     "output_type": "stream",
     "text": [
      "You Have 10 guesses to get it\n",
      "Guess : 1\n",
      "\n",
      "Guess : 1\n",
      "321\n",
      "Bagels\n",
      "Guess : 2\n",
      "456\n",
      "Fermi Pico\n",
      "Guess : 3\n",
      "478\n",
      "Pico Pico\n",
      "Guess : 4\n",
      "479\n",
      "Pico\n",
      "Guess : 5\n",
      "974\n",
      "Fermi\n",
      "Guess : 6\n",
      "447\n",
      "Pico Pico\n",
      "Guess : 7\n",
      "497\n",
      "Pico\n",
      "Guess : 8\n",
      "997\n",
      "Bagels\n",
      "Guess : 9\n",
      "467\n",
      "Pico\n",
      "Guess : 10\n",
      "447\n",
      "Pico Pico\n",
      "Out of Guesses\n",
      "You Have 10 guesses to get it\n",
      "Guess : 1\n"
     ]
    }
   ],
   "source": [
    "import random\n",
    "Maximum_digits=3\n",
    "Number_of_Guesses=10\n",
    "def getaNumberOf3digits():\n",
    "    number=list(\"0123456789\")\n",
    "    random.shuffle(number)\n",
    "    threedigitNumber=\"\"\n",
    "    for i in range(Maximum_digits):\n",
    "        threedigitNumber+=str(number[i])\n",
    "    return threedigitNumber\n",
    "# getaNumberOf3digits()\n",
    "def gameFuntion():\n",
    "    while True:\n",
    "        Number=getaNumberOf3digits()\n",
    "        print(f\"You Have {Number_of_Guesses} guesses to get it\")\n",
    "        Guesses=1\n",
    "        while Guesses<=Number_of_Guesses:\n",
    "            guess=\"\"\n",
    "            while len(guess)!=Maximum_digits or not guess.isdecimal():\n",
    "                print(f\"Guess : {Guesses}\")\n",
    "                guess=input()\n",
    "            clues=getclues(guess,Number)\n",
    "            print(clues)\n",
    "            Guesses+=1\n",
    "            if guess==Number:\n",
    "                print(\"You are correct \")\n",
    "                break\n",
    "            if Guesses>Number_of_Guesses:\n",
    "                print(\"Out of Guesses\")\n",
    "    print(\"Thanks For Playing\")\n",
    "                \n",
    "def getclues(guess,Number):\n",
    "    if guess==Number:\n",
    "        return \"You Got it\"\n",
    "    clues=[]\n",
    "    for i in range(len(guess)):\n",
    "        if guess[i]==Number[i]:\n",
    "            clues.append(\"Fermi\")\n",
    "        elif guess[i] in Number:\n",
    "            clues.append(\"Pico\")\n",
    "    if len(clues)==0:\n",
    "        return  'Bagels'\n",
    "    else:\n",
    "        clues.sort()\n",
    "        return \" \".join(clues)\n",
    "\n",
    "        \n",
    "gameFuntion()\n",
    "\n",
    "    "
   ]
  },
  {
   "cell_type": "code",
   "execution_count": null,
   "id": "5b7b52de",
   "metadata": {},
   "outputs": [],
   "source": []
  }
 ],
 "metadata": {
  "kernelspec": {
   "display_name": "Python 3 (ipykernel)",
   "language": "python",
   "name": "python3"
  },
  "language_info": {
   "codemirror_mode": {
    "name": "ipython",
    "version": 3
   },
   "file_extension": ".py",
   "mimetype": "text/x-python",
   "name": "python",
   "nbconvert_exporter": "python",
   "pygments_lexer": "ipython3",
   "version": "3.11.5"
  }
 },
 "nbformat": 4,
 "nbformat_minor": 5
}
