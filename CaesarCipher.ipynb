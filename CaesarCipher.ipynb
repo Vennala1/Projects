{
 "cells": [
  {
   "cell_type": "code",
   "execution_count": 3,
   "id": "283e5afe",
   "metadata": {},
   "outputs": [],
   "source": [
    "def my_func():\n",
    "    print('Hello World!')"
   ]
  },
  {
   "cell_type": "code",
   "execution_count": 4,
   "id": "498f624b",
   "metadata": {},
   "outputs": [
    {
     "name": "stdout",
     "output_type": "stream",
     "text": [
      "Hello World!\n"
     ]
    }
   ],
   "source": [
    "my_func()"
   ]
  },
  {
   "cell_type": "code",
   "execution_count": 5,
   "id": "b6ea8299",
   "metadata": {},
   "outputs": [],
   "source": [
    "def print_name(name):\n",
    "    print(f'Hello {name}')"
   ]
  },
  {
   "cell_type": "code",
   "execution_count": 6,
   "id": "1a40705c",
   "metadata": {},
   "outputs": [
    {
     "name": "stdout",
     "output_type": "stream",
     "text": [
      "Hello sai\n"
     ]
    }
   ],
   "source": [
    "\n",
    "\n",
    "print_name(\"sai\")"
   ]
  },
  {
   "cell_type": "markdown",
   "id": "924d4ee4",
   "metadata": {},
   "source": [
    "A Few new Things"
   ]
  },
  {
   "cell_type": "code",
   "execution_count": 7,
   "id": "4b380b4c",
   "metadata": {},
   "outputs": [
    {
     "data": {
      "text/plain": [
       "65"
      ]
     },
     "execution_count": 7,
     "metadata": {},
     "output_type": "execute_result"
    }
   ],
   "source": [
    "ord('A')"
   ]
  },
  {
   "cell_type": "code",
   "execution_count": 8,
   "id": "30aa3617",
   "metadata": {},
   "outputs": [
    {
     "data": {
      "text/plain": [
       "90"
      ]
     },
     "execution_count": 8,
     "metadata": {},
     "output_type": "execute_result"
    }
   ],
   "source": [
    "ord('Z')"
   ]
  },
  {
   "cell_type": "code",
   "execution_count": 9,
   "id": "2837e2b5",
   "metadata": {},
   "outputs": [
    {
     "data": {
      "text/plain": [
       "97"
      ]
     },
     "execution_count": 9,
     "metadata": {},
     "output_type": "execute_result"
    }
   ],
   "source": [
    "ord('a')"
   ]
  },
  {
   "cell_type": "code",
   "execution_count": 10,
   "id": "d4953ea0",
   "metadata": {},
   "outputs": [
    {
     "name": "stdout",
     "output_type": "stream",
     "text": [
      "65 is A\n",
      "66 is B\n",
      "67 is C\n",
      "68 is D\n",
      "69 is E\n",
      "70 is F\n",
      "71 is G\n",
      "72 is H\n",
      "73 is I\n",
      "74 is J\n",
      "75 is K\n",
      "76 is L\n",
      "77 is M\n",
      "78 is N\n",
      "79 is O\n",
      "80 is P\n",
      "81 is Q\n",
      "82 is R\n",
      "83 is S\n",
      "84 is T\n",
      "85 is U\n",
      "86 is V\n",
      "87 is W\n",
      "88 is X\n",
      "89 is Y\n",
      "90 is Z\n",
      "91 is [\n",
      "92 is \\\n",
      "93 is ]\n",
      "94 is ^\n"
     ]
    }
   ],
   "source": [
    "for c in range(65,65+30):\n",
    "    print(f\"{c} is {chr(c)}\")"
   ]
  },
  {
   "cell_type": "code",
   "execution_count": 11,
   "id": "280dba61",
   "metadata": {},
   "outputs": [
    {
     "data": {
      "text/plain": [
       "2"
      ]
     },
     "execution_count": 11,
     "metadata": {},
     "output_type": "execute_result"
    }
   ],
   "source": [
    "hours=50\n",
    "hours%24"
   ]
  },
  {
   "cell_type": "code",
   "execution_count": 12,
   "id": "25eab0f4",
   "metadata": {},
   "outputs": [],
   "source": [
    "def iseven(n):\n",
    "    \n",
    "    if n%2==0:\n",
    "        print('even')\n",
    "    else:\n",
    "        print(\"odd\")\n",
    "    \n",
    "     \n"
   ]
  },
  {
   "cell_type": "code",
   "execution_count": 13,
   "id": "87a12c34",
   "metadata": {},
   "outputs": [
    {
     "name": "stdout",
     "output_type": "stream",
     "text": [
      "odd\n"
     ]
    }
   ],
   "source": [
    "iseven(1)"
   ]
  },
  {
   "cell_type": "code",
   "execution_count": 14,
   "id": "e6f8b5fe",
   "metadata": {},
   "outputs": [
    {
     "name": "stdout",
     "output_type": "stream",
     "text": [
      "0 even\n",
      "1 odd\n",
      "2 even\n",
      "3 odd\n",
      "4 even\n",
      "5 odd\n",
      "6 even\n",
      "7 odd\n",
      "8 even\n",
      "9 odd\n"
     ]
    }
   ],
   "source": [
    "for i in range(10):\n",
    "    print(i,end=\" \")\n",
    "    iseven(i)"
   ]
  },
  {
   "cell_type": "markdown",
   "id": "1e98f55b",
   "metadata": {},
   "source": [
    "#Caesar Cipher\n",
    "implement helper function encrypt(char,key) to encypt a single character,char,with key. \n",
    "   it can be helpful to use ord(),chr() and %\n",
    "   calculation can be a bit tricky\n",
    "implement encrypt_message(message,key) ,it should use the helper function\n",
    "Implement similar functions for decrypt\n",
    "\n"
   ]
  },
  {
   "cell_type": "code",
   "execution_count": 15,
   "id": "80b433b1",
   "metadata": {},
   "outputs": [],
   "source": [
    "def encrypt(char,key):\n",
    "    return chr(ord('A')+(ord(char)-ord('A')+key)%26)"
   ]
  },
  {
   "cell_type": "code",
   "execution_count": 16,
   "id": "3820699f",
   "metadata": {},
   "outputs": [],
   "source": [
    "# encrypt('Z',3)"
   ]
  },
  {
   "cell_type": "code",
   "execution_count": 17,
   "id": "ebe24678",
   "metadata": {},
   "outputs": [],
   "source": [
    "def encrypt_message(message,key):\n",
    "    message=message.upper()\n",
    "    c=\"\"\n",
    "    for i in message:\n",
    "        if i in \" .,\":\n",
    "            c+=i\n",
    "        else:\n",
    "            c+=encrypt(i,key)\n",
    "    return c\n"
   ]
  },
  {
   "cell_type": "code",
   "execution_count": 18,
   "id": "4af72e38",
   "metadata": {},
   "outputs": [
    {
     "data": {
      "text/plain": [
       "'WKLV LV PB ILUVW FRGH,,,,,'"
      ]
     },
     "execution_count": 18,
     "metadata": {},
     "output_type": "execute_result"
    }
   ],
   "source": [
    "encrypt_message('this is my first code,,,,,',3)"
   ]
  },
  {
   "cell_type": "code",
   "execution_count": 19,
   "id": "b9916ea6",
   "metadata": {},
   "outputs": [],
   "source": [
    "def decrypt_char(char,key):\n",
    "    return chr(ord('A')+(ord(char)-ord('A')-key)%26)"
   ]
  },
  {
   "cell_type": "code",
   "execution_count": 20,
   "id": "a8d6985c",
   "metadata": {},
   "outputs": [],
   "source": [
    "def decrypt_message(cipher,key):\n",
    "    message=\"\"\n",
    "    for c in cipher:\n",
    "        if c in \" ,.\":\n",
    "            message+=c\n",
    "        else:\n",
    "            message+=decrypt_char(c,key)\n",
    "    return message\n",
    "\n",
    "    \n",
    "    "
   ]
  },
  {
   "cell_type": "code",
   "execution_count": 21,
   "id": "20e30b2f",
   "metadata": {},
   "outputs": [
    {
     "data": {
      "text/plain": [
       "'THIS IS MY FIRST CODE,,,,,'"
      ]
     },
     "execution_count": 21,
     "metadata": {},
     "output_type": "execute_result"
    }
   ],
   "source": [
    "decrypt_message('WKLV LV PB ILUVW FRGH,,,,,',3)"
   ]
  },
  {
   "cell_type": "code",
   "execution_count": 23,
   "id": "f6c0da2f",
   "metadata": {},
   "outputs": [
    {
     "data": {
      "text/plain": [
       "'JKMNLRSRNOOHHHU '"
      ]
     },
     "execution_count": 23,
     "metadata": {},
     "output_type": "execute_result"
    }
   ],
   "source": [
    "decrypt_message(\"ghjkiopoklleeer \",3)"
   ]
  },
  {
   "cell_type": "code",
   "execution_count": null,
   "id": "3b78bc0d",
   "metadata": {},
   "outputs": [],
   "source": [
    "ALPHABET\n",
    "CODING\n"
   ]
  },
  {
   "cell_type": "code",
   "execution_count": 1,
   "id": "1d5706c9",
   "metadata": {},
   "outputs": [
    {
     "ename": "ValueError",
     "evalue": "too many values to unpack (expected 2)",
     "output_type": "error",
     "traceback": [
      "\u001b[1;31m---------------------------------------------------------------------------\u001b[0m",
      "\u001b[1;31mValueError\u001b[0m                                Traceback (most recent call last)",
      "Input \u001b[1;32mIn [1]\u001b[0m, in \u001b[0;36m<cell line: 1>\u001b[1;34m()\u001b[0m\n\u001b[1;32m----> 1\u001b[0m t,v\u001b[38;5;241m=\u001b[39m(\u001b[38;5;241m1\u001b[39m,\u001b[38;5;241m2\u001b[39m,\u001b[38;5;241m3\u001b[39m,\u001b[38;5;241m4\u001b[39m)\n",
      "\u001b[1;31mValueError\u001b[0m: too many values to unpack (expected 2)"
     ]
    }
   ],
   "source": [
    "t,v=(1,2,3,4)"
   ]
  },
  {
   "cell_type": "code",
   "execution_count": null,
   "id": "00fe7af9",
   "metadata": {},
   "outputs": [],
   "source": []
  }
 ],
 "metadata": {
  "kernelspec": {
   "display_name": "Python 3 (ipykernel)",
   "language": "python",
   "name": "python3"
  },
  "language_info": {
   "codemirror_mode": {
    "name": "ipython",
    "version": 3
   },
   "file_extension": ".py",
   "mimetype": "text/x-python",
   "name": "python",
   "nbconvert_exporter": "python",
   "pygments_lexer": "ipython3",
   "version": "3.9.12"
  }
 },
 "nbformat": 4,
 "nbformat_minor": 5
}
